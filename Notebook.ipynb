{
 "cells": [
  {
   "cell_type": "markdown",
   "id": "593e8734-7967-4da1-a75d-a1d4101e7c8b",
   "metadata": {},
   "source": [
    "# social.coop Notebook\n",
    "\n",
    "## Registrations\n",
    "\n",
    "Whenever someone registers for a new account at https://wiki.social.coop/registration-form.html a Gitlab issue is automatically created for someone from the community working group to process. Since each issue has a `created_time` we can take a quick look at social.coop registrations over time. I guess this information is also in the Mastodon database itself...\n",
    "\n",
    "To run this notebook you'll need to install a few things:\n",
    "\n",
    "```\n",
    "pip install -r requirements.txt\n",
    "```\n",
    "\n",
    "Then you'll need to add a `.env` file that contains your GitLab API token:\n",
    "\n",
    "```\n",
    "GITLAB_TOKEN=YOURTOKENHERE\n",
    "```\n",
    "\n",
    "Then you can run this code to fetch the issues from the (private) [community-operations](https://git.coop/social.coop/community/operations/-/issues) repository:"
   ]
  },
  {
   "cell_type": "code",
   "execution_count": 6,
   "id": "4fdf4e86-9bef-4bd2-9a21-be42af9cf0e9",
   "metadata": {},
   "outputs": [],
   "source": [
    "import os\n",
    "import json\n",
    "import time\n",
    "import dotenv\n",
    "import requests\n",
    "\n",
    "dotenv.load_dotenv()\n",
    "\n",
    "token = os.environ.get('GITLAB_TOKEN')\n",
    "\n",
    "page = 1\n",
    "issues = []\n",
    "while True:\n",
    "    resp = requests.get(\"https://git.coop/api/v4/projects/764/issues\", headers={\"PRIVATE-TOKEN\": token}, params={\"page\": page, \"per_page\": 100})\n",
    "    results = resp.json()\n",
    "\n",
    "    if len(results) == 0:\n",
    "        break\n",
    "\n",
    "    issues.extend(results)\n",
    "    time.sleep(.5)\n",
    "    page += 1\n",
    "\n",
    "json.dump(issues, open(\"data/issues.json\", \"w\"), indent=2)\n"
   ]
  },
  {
   "cell_type": "markdown",
   "id": "dc0e3150-b8ff-4891-ba18-ecb70b312a94",
   "metadata": {},
   "source": [
    "Now you can load in the issues data into a Pandas DataFrame, and extract out just the issues that are related to new registrations. These issues are created automatically by the registration process."
   ]
  },
  {
   "cell_type": "code",
   "execution_count": 9,
   "id": "3a333cd6-7d26-4c28-8ea4-6d291c3f9efa",
   "metadata": {},
   "outputs": [],
   "source": [
    "import pandas\n",
    "\n",
    "df = pandas.read_json('issues.json', convert_dates=True)\n",
    "df = df[df.title.str.match('social.coop registration')]\n",
    "df = df.set_index('created_at')\n"
   ]
  },
  {
   "cell_type": "markdown",
   "id": "c36cd137-d344-4015-bcbf-4b23b58fca7d",
   "metadata": {},
   "source": [
    "Now we can resample the created_at index grouping by week:"
   ]
  },
  {
   "cell_type": "code",
   "execution_count": 11,
   "id": "4b0586fb-9827-441a-a070-5368755be72e",
   "metadata": {},
   "outputs": [
    {
     "data": {
      "text/html": [
       "<div>\n",
       "<style scoped>\n",
       "    .dataframe tbody tr th:only-of-type {\n",
       "        vertical-align: middle;\n",
       "    }\n",
       "\n",
       "    .dataframe tbody tr th {\n",
       "        vertical-align: top;\n",
       "    }\n",
       "\n",
       "    .dataframe thead th {\n",
       "        text-align: right;\n",
       "    }\n",
       "</style>\n",
       "<table border=\"1\" class=\"dataframe\">\n",
       "  <thead>\n",
       "    <tr style=\"text-align: right;\">\n",
       "      <th></th>\n",
       "      <th>id</th>\n",
       "      <th>iid</th>\n",
       "      <th>project_id</th>\n",
       "      <th>title</th>\n",
       "      <th>description</th>\n",
       "      <th>state</th>\n",
       "      <th>updated_at</th>\n",
       "      <th>closed_at</th>\n",
       "      <th>closed_by</th>\n",
       "      <th>labels</th>\n",
       "      <th>...</th>\n",
       "      <th>issue_type</th>\n",
       "      <th>web_url</th>\n",
       "      <th>time_stats</th>\n",
       "      <th>task_completion_status</th>\n",
       "      <th>has_tasks</th>\n",
       "      <th>_links</th>\n",
       "      <th>references</th>\n",
       "      <th>severity</th>\n",
       "      <th>moved_to_id</th>\n",
       "      <th>service_desk_reply_to</th>\n",
       "    </tr>\n",
       "    <tr>\n",
       "      <th>created_at</th>\n",
       "      <th></th>\n",
       "      <th></th>\n",
       "      <th></th>\n",
       "      <th></th>\n",
       "      <th></th>\n",
       "      <th></th>\n",
       "      <th></th>\n",
       "      <th></th>\n",
       "      <th></th>\n",
       "      <th></th>\n",
       "      <th></th>\n",
       "      <th></th>\n",
       "      <th></th>\n",
       "      <th></th>\n",
       "      <th></th>\n",
       "      <th></th>\n",
       "      <th></th>\n",
       "      <th></th>\n",
       "      <th></th>\n",
       "      <th></th>\n",
       "      <th></th>\n",
       "    </tr>\n",
       "  </thead>\n",
       "  <tbody>\n",
       "    <tr>\n",
       "      <th>2021-02-28 00:00:00+00:00</th>\n",
       "      <td>1</td>\n",
       "      <td>1</td>\n",
       "      <td>1</td>\n",
       "      <td>1</td>\n",
       "      <td>1</td>\n",
       "      <td>1</td>\n",
       "      <td>1</td>\n",
       "      <td>1</td>\n",
       "      <td>1</td>\n",
       "      <td>1</td>\n",
       "      <td>...</td>\n",
       "      <td>1</td>\n",
       "      <td>1</td>\n",
       "      <td>1</td>\n",
       "      <td>1</td>\n",
       "      <td>1</td>\n",
       "      <td>1</td>\n",
       "      <td>1</td>\n",
       "      <td>1</td>\n",
       "      <td>0</td>\n",
       "      <td>0</td>\n",
       "    </tr>\n",
       "    <tr>\n",
       "      <th>2021-03-07 00:00:00+00:00</th>\n",
       "      <td>5</td>\n",
       "      <td>5</td>\n",
       "      <td>5</td>\n",
       "      <td>5</td>\n",
       "      <td>5</td>\n",
       "      <td>5</td>\n",
       "      <td>5</td>\n",
       "      <td>5</td>\n",
       "      <td>5</td>\n",
       "      <td>5</td>\n",
       "      <td>...</td>\n",
       "      <td>5</td>\n",
       "      <td>5</td>\n",
       "      <td>5</td>\n",
       "      <td>5</td>\n",
       "      <td>5</td>\n",
       "      <td>5</td>\n",
       "      <td>5</td>\n",
       "      <td>5</td>\n",
       "      <td>0</td>\n",
       "      <td>0</td>\n",
       "    </tr>\n",
       "    <tr>\n",
       "      <th>2021-03-14 00:00:00+00:00</th>\n",
       "      <td>8</td>\n",
       "      <td>8</td>\n",
       "      <td>8</td>\n",
       "      <td>8</td>\n",
       "      <td>8</td>\n",
       "      <td>8</td>\n",
       "      <td>8</td>\n",
       "      <td>8</td>\n",
       "      <td>8</td>\n",
       "      <td>8</td>\n",
       "      <td>...</td>\n",
       "      <td>8</td>\n",
       "      <td>8</td>\n",
       "      <td>8</td>\n",
       "      <td>8</td>\n",
       "      <td>8</td>\n",
       "      <td>8</td>\n",
       "      <td>8</td>\n",
       "      <td>8</td>\n",
       "      <td>0</td>\n",
       "      <td>0</td>\n",
       "    </tr>\n",
       "    <tr>\n",
       "      <th>2021-03-21 00:00:00+00:00</th>\n",
       "      <td>2</td>\n",
       "      <td>2</td>\n",
       "      <td>2</td>\n",
       "      <td>2</td>\n",
       "      <td>2</td>\n",
       "      <td>2</td>\n",
       "      <td>2</td>\n",
       "      <td>2</td>\n",
       "      <td>2</td>\n",
       "      <td>2</td>\n",
       "      <td>...</td>\n",
       "      <td>2</td>\n",
       "      <td>2</td>\n",
       "      <td>2</td>\n",
       "      <td>2</td>\n",
       "      <td>2</td>\n",
       "      <td>2</td>\n",
       "      <td>2</td>\n",
       "      <td>2</td>\n",
       "      <td>0</td>\n",
       "      <td>0</td>\n",
       "    </tr>\n",
       "    <tr>\n",
       "      <th>2021-03-28 00:00:00+00:00</th>\n",
       "      <td>6</td>\n",
       "      <td>6</td>\n",
       "      <td>6</td>\n",
       "      <td>6</td>\n",
       "      <td>6</td>\n",
       "      <td>6</td>\n",
       "      <td>6</td>\n",
       "      <td>6</td>\n",
       "      <td>6</td>\n",
       "      <td>6</td>\n",
       "      <td>...</td>\n",
       "      <td>6</td>\n",
       "      <td>6</td>\n",
       "      <td>6</td>\n",
       "      <td>6</td>\n",
       "      <td>6</td>\n",
       "      <td>6</td>\n",
       "      <td>6</td>\n",
       "      <td>6</td>\n",
       "      <td>0</td>\n",
       "      <td>0</td>\n",
       "    </tr>\n",
       "  </tbody>\n",
       "</table>\n",
       "<p>5 rows × 32 columns</p>\n",
       "</div>"
      ],
      "text/plain": [
       "                           id  iid  project_id  title  description  state  \\\n",
       "created_at                                                                  \n",
       "2021-02-28 00:00:00+00:00   1    1           1      1            1      1   \n",
       "2021-03-07 00:00:00+00:00   5    5           5      5            5      5   \n",
       "2021-03-14 00:00:00+00:00   8    8           8      8            8      8   \n",
       "2021-03-21 00:00:00+00:00   2    2           2      2            2      2   \n",
       "2021-03-28 00:00:00+00:00   6    6           6      6            6      6   \n",
       "\n",
       "                           updated_at  closed_at  closed_by  labels  ...  \\\n",
       "created_at                                                           ...   \n",
       "2021-02-28 00:00:00+00:00           1          1          1       1  ...   \n",
       "2021-03-07 00:00:00+00:00           5          5          5       5  ...   \n",
       "2021-03-14 00:00:00+00:00           8          8          8       8  ...   \n",
       "2021-03-21 00:00:00+00:00           2          2          2       2  ...   \n",
       "2021-03-28 00:00:00+00:00           6          6          6       6  ...   \n",
       "\n",
       "                           issue_type  web_url  time_stats  \\\n",
       "created_at                                                   \n",
       "2021-02-28 00:00:00+00:00           1        1           1   \n",
       "2021-03-07 00:00:00+00:00           5        5           5   \n",
       "2021-03-14 00:00:00+00:00           8        8           8   \n",
       "2021-03-21 00:00:00+00:00           2        2           2   \n",
       "2021-03-28 00:00:00+00:00           6        6           6   \n",
       "\n",
       "                           task_completion_status  has_tasks  _links  \\\n",
       "created_at                                                             \n",
       "2021-02-28 00:00:00+00:00                       1          1       1   \n",
       "2021-03-07 00:00:00+00:00                       5          5       5   \n",
       "2021-03-14 00:00:00+00:00                       8          8       8   \n",
       "2021-03-21 00:00:00+00:00                       2          2       2   \n",
       "2021-03-28 00:00:00+00:00                       6          6       6   \n",
       "\n",
       "                           references  severity  moved_to_id  \\\n",
       "created_at                                                     \n",
       "2021-02-28 00:00:00+00:00           1         1            0   \n",
       "2021-03-07 00:00:00+00:00           5         5            0   \n",
       "2021-03-14 00:00:00+00:00           8         8            0   \n",
       "2021-03-21 00:00:00+00:00           2         2            0   \n",
       "2021-03-28 00:00:00+00:00           6         6            0   \n",
       "\n",
       "                           service_desk_reply_to  \n",
       "created_at                                        \n",
       "2021-02-28 00:00:00+00:00                      0  \n",
       "2021-03-07 00:00:00+00:00                      0  \n",
       "2021-03-14 00:00:00+00:00                      0  \n",
       "2021-03-21 00:00:00+00:00                      0  \n",
       "2021-03-28 00:00:00+00:00                      0  \n",
       "\n",
       "[5 rows x 32 columns]"
      ]
     },
     "execution_count": 11,
     "metadata": {},
     "output_type": "execute_result"
    }
   ],
   "source": [
    "counts = df.resample('W').count()\n",
    "counts.head()"
   ]
  },
  {
   "cell_type": "markdown",
   "id": "ea3dfab7-0626-496f-893a-53d5ba60656a",
   "metadata": {},
   "source": [
    "And graph it!"
   ]
  },
  {
   "cell_type": "code",
   "execution_count": 13,
   "id": "39457592-ebdd-42c9-b35d-b0eefe2fb88a",
   "metadata": {},
   "outputs": [
    {
     "data": {
      "application/vnd.plotly.v1+json": {
       "config": {
        "plotlyServerURL": "https://plot.ly"
       },
       "data": [
        {
         "alignmentgroup": "True",
         "hovertemplate": "time (week)=%{x}<br>registrations=%{y}<extra></extra>",
         "legendgroup": "",
         "marker": {
          "color": "#636efa",
          "pattern": {
           "shape": ""
          }
         },
         "name": "",
         "offsetgroup": "",
         "orientation": "v",
         "showlegend": false,
         "textposition": "auto",
         "type": "bar",
         "x": [
          "2021-02-28T00:00:00+00:00",
          "2021-03-07T00:00:00+00:00",
          "2021-03-14T00:00:00+00:00",
          "2021-03-21T00:00:00+00:00",
          "2021-03-28T00:00:00+00:00",
          "2021-04-04T00:00:00+00:00",
          "2021-04-11T00:00:00+00:00",
          "2021-04-18T00:00:00+00:00",
          "2021-04-25T00:00:00+00:00",
          "2021-05-02T00:00:00+00:00",
          "2021-05-09T00:00:00+00:00",
          "2021-05-16T00:00:00+00:00",
          "2021-05-23T00:00:00+00:00",
          "2021-05-30T00:00:00+00:00",
          "2021-06-06T00:00:00+00:00",
          "2021-06-13T00:00:00+00:00",
          "2021-06-20T00:00:00+00:00",
          "2021-06-27T00:00:00+00:00",
          "2021-07-04T00:00:00+00:00",
          "2021-07-11T00:00:00+00:00",
          "2021-07-18T00:00:00+00:00",
          "2021-07-25T00:00:00+00:00",
          "2021-08-01T00:00:00+00:00",
          "2021-08-08T00:00:00+00:00",
          "2021-08-15T00:00:00+00:00",
          "2021-08-22T00:00:00+00:00",
          "2021-08-29T00:00:00+00:00",
          "2021-09-05T00:00:00+00:00",
          "2021-09-12T00:00:00+00:00",
          "2021-09-19T00:00:00+00:00",
          "2021-09-26T00:00:00+00:00",
          "2021-10-03T00:00:00+00:00",
          "2021-10-10T00:00:00+00:00",
          "2021-10-17T00:00:00+00:00",
          "2021-10-24T00:00:00+00:00",
          "2021-10-31T00:00:00+00:00",
          "2021-11-07T00:00:00+00:00",
          "2021-11-14T00:00:00+00:00",
          "2021-11-21T00:00:00+00:00",
          "2021-11-28T00:00:00+00:00",
          "2021-12-05T00:00:00+00:00",
          "2021-12-12T00:00:00+00:00",
          "2021-12-19T00:00:00+00:00",
          "2021-12-26T00:00:00+00:00",
          "2022-01-02T00:00:00+00:00",
          "2022-01-09T00:00:00+00:00",
          "2022-01-16T00:00:00+00:00",
          "2022-01-23T00:00:00+00:00",
          "2022-01-30T00:00:00+00:00",
          "2022-02-06T00:00:00+00:00",
          "2022-02-13T00:00:00+00:00",
          "2022-02-20T00:00:00+00:00",
          "2022-02-27T00:00:00+00:00",
          "2022-03-06T00:00:00+00:00",
          "2022-03-13T00:00:00+00:00",
          "2022-03-20T00:00:00+00:00",
          "2022-03-27T00:00:00+00:00",
          "2022-04-03T00:00:00+00:00",
          "2022-04-10T00:00:00+00:00",
          "2022-04-17T00:00:00+00:00",
          "2022-04-24T00:00:00+00:00",
          "2022-05-01T00:00:00+00:00",
          "2022-05-08T00:00:00+00:00",
          "2022-05-15T00:00:00+00:00",
          "2022-05-22T00:00:00+00:00",
          "2022-05-29T00:00:00+00:00",
          "2022-06-05T00:00:00+00:00",
          "2022-06-12T00:00:00+00:00",
          "2022-06-19T00:00:00+00:00",
          "2022-06-26T00:00:00+00:00",
          "2022-07-03T00:00:00+00:00",
          "2022-07-10T00:00:00+00:00",
          "2022-07-17T00:00:00+00:00",
          "2022-07-24T00:00:00+00:00",
          "2022-07-31T00:00:00+00:00",
          "2022-08-07T00:00:00+00:00",
          "2022-08-14T00:00:00+00:00",
          "2022-08-21T00:00:00+00:00",
          "2022-08-28T00:00:00+00:00",
          "2022-09-04T00:00:00+00:00",
          "2022-09-11T00:00:00+00:00",
          "2022-09-18T00:00:00+00:00",
          "2022-09-25T00:00:00+00:00",
          "2022-10-02T00:00:00+00:00",
          "2022-10-09T00:00:00+00:00",
          "2022-10-16T00:00:00+00:00",
          "2022-10-23T00:00:00+00:00",
          "2022-10-30T00:00:00+00:00",
          "2022-11-06T00:00:00+00:00"
         ],
         "xaxis": "x",
         "y": [
          1,
          5,
          8,
          2,
          6,
          0,
          2,
          2,
          3,
          2,
          0,
          0,
          5,
          2,
          1,
          0,
          1,
          2,
          2,
          2,
          1,
          2,
          1,
          2,
          1,
          3,
          2,
          1,
          1,
          0,
          1,
          1,
          2,
          1,
          0,
          0,
          2,
          1,
          2,
          0,
          2,
          6,
          2,
          1,
          0,
          1,
          0,
          3,
          5,
          5,
          0,
          0,
          1,
          3,
          0,
          1,
          5,
          1,
          1,
          2,
          2,
          28,
          9,
          2,
          3,
          2,
          2,
          3,
          0,
          4,
          2,
          0,
          1,
          2,
          1,
          1,
          3,
          2,
          2,
          2,
          1,
          1,
          1,
          0,
          2,
          1,
          2,
          16,
          21
         ],
         "yaxis": "y"
        }
       ],
       "layout": {
        "autosize": true,
        "barmode": "relative",
        "legend": {
         "tracegroupgap": 0
        },
        "template": {
         "data": {
          "bar": [
           {
            "error_x": {
             "color": "#2a3f5f"
            },
            "error_y": {
             "color": "#2a3f5f"
            },
            "marker": {
             "line": {
              "color": "#E5ECF6",
              "width": 0.5
             },
             "pattern": {
              "fillmode": "overlay",
              "size": 10,
              "solidity": 0.2
             }
            },
            "type": "bar"
           }
          ],
          "barpolar": [
           {
            "marker": {
             "line": {
              "color": "#E5ECF6",
              "width": 0.5
             },
             "pattern": {
              "fillmode": "overlay",
              "size": 10,
              "solidity": 0.2
             }
            },
            "type": "barpolar"
           }
          ],
          "carpet": [
           {
            "aaxis": {
             "endlinecolor": "#2a3f5f",
             "gridcolor": "white",
             "linecolor": "white",
             "minorgridcolor": "white",
             "startlinecolor": "#2a3f5f"
            },
            "baxis": {
             "endlinecolor": "#2a3f5f",
             "gridcolor": "white",
             "linecolor": "white",
             "minorgridcolor": "white",
             "startlinecolor": "#2a3f5f"
            },
            "type": "carpet"
           }
          ],
          "choropleth": [
           {
            "colorbar": {
             "outlinewidth": 0,
             "ticks": ""
            },
            "type": "choropleth"
           }
          ],
          "contour": [
           {
            "colorbar": {
             "outlinewidth": 0,
             "ticks": ""
            },
            "colorscale": [
             [
              0,
              "#0d0887"
             ],
             [
              0.1111111111111111,
              "#46039f"
             ],
             [
              0.2222222222222222,
              "#7201a8"
             ],
             [
              0.3333333333333333,
              "#9c179e"
             ],
             [
              0.4444444444444444,
              "#bd3786"
             ],
             [
              0.5555555555555556,
              "#d8576b"
             ],
             [
              0.6666666666666666,
              "#ed7953"
             ],
             [
              0.7777777777777778,
              "#fb9f3a"
             ],
             [
              0.8888888888888888,
              "#fdca26"
             ],
             [
              1,
              "#f0f921"
             ]
            ],
            "type": "contour"
           }
          ],
          "contourcarpet": [
           {
            "colorbar": {
             "outlinewidth": 0,
             "ticks": ""
            },
            "type": "contourcarpet"
           }
          ],
          "heatmap": [
           {
            "colorbar": {
             "outlinewidth": 0,
             "ticks": ""
            },
            "colorscale": [
             [
              0,
              "#0d0887"
             ],
             [
              0.1111111111111111,
              "#46039f"
             ],
             [
              0.2222222222222222,
              "#7201a8"
             ],
             [
              0.3333333333333333,
              "#9c179e"
             ],
             [
              0.4444444444444444,
              "#bd3786"
             ],
             [
              0.5555555555555556,
              "#d8576b"
             ],
             [
              0.6666666666666666,
              "#ed7953"
             ],
             [
              0.7777777777777778,
              "#fb9f3a"
             ],
             [
              0.8888888888888888,
              "#fdca26"
             ],
             [
              1,
              "#f0f921"
             ]
            ],
            "type": "heatmap"
           }
          ],
          "heatmapgl": [
           {
            "colorbar": {
             "outlinewidth": 0,
             "ticks": ""
            },
            "colorscale": [
             [
              0,
              "#0d0887"
             ],
             [
              0.1111111111111111,
              "#46039f"
             ],
             [
              0.2222222222222222,
              "#7201a8"
             ],
             [
              0.3333333333333333,
              "#9c179e"
             ],
             [
              0.4444444444444444,
              "#bd3786"
             ],
             [
              0.5555555555555556,
              "#d8576b"
             ],
             [
              0.6666666666666666,
              "#ed7953"
             ],
             [
              0.7777777777777778,
              "#fb9f3a"
             ],
             [
              0.8888888888888888,
              "#fdca26"
             ],
             [
              1,
              "#f0f921"
             ]
            ],
            "type": "heatmapgl"
           }
          ],
          "histogram": [
           {
            "marker": {
             "pattern": {
              "fillmode": "overlay",
              "size": 10,
              "solidity": 0.2
             }
            },
            "type": "histogram"
           }
          ],
          "histogram2d": [
           {
            "colorbar": {
             "outlinewidth": 0,
             "ticks": ""
            },
            "colorscale": [
             [
              0,
              "#0d0887"
             ],
             [
              0.1111111111111111,
              "#46039f"
             ],
             [
              0.2222222222222222,
              "#7201a8"
             ],
             [
              0.3333333333333333,
              "#9c179e"
             ],
             [
              0.4444444444444444,
              "#bd3786"
             ],
             [
              0.5555555555555556,
              "#d8576b"
             ],
             [
              0.6666666666666666,
              "#ed7953"
             ],
             [
              0.7777777777777778,
              "#fb9f3a"
             ],
             [
              0.8888888888888888,
              "#fdca26"
             ],
             [
              1,
              "#f0f921"
             ]
            ],
            "type": "histogram2d"
           }
          ],
          "histogram2dcontour": [
           {
            "colorbar": {
             "outlinewidth": 0,
             "ticks": ""
            },
            "colorscale": [
             [
              0,
              "#0d0887"
             ],
             [
              0.1111111111111111,
              "#46039f"
             ],
             [
              0.2222222222222222,
              "#7201a8"
             ],
             [
              0.3333333333333333,
              "#9c179e"
             ],
             [
              0.4444444444444444,
              "#bd3786"
             ],
             [
              0.5555555555555556,
              "#d8576b"
             ],
             [
              0.6666666666666666,
              "#ed7953"
             ],
             [
              0.7777777777777778,
              "#fb9f3a"
             ],
             [
              0.8888888888888888,
              "#fdca26"
             ],
             [
              1,
              "#f0f921"
             ]
            ],
            "type": "histogram2dcontour"
           }
          ],
          "mesh3d": [
           {
            "colorbar": {
             "outlinewidth": 0,
             "ticks": ""
            },
            "type": "mesh3d"
           }
          ],
          "parcoords": [
           {
            "line": {
             "colorbar": {
              "outlinewidth": 0,
              "ticks": ""
             }
            },
            "type": "parcoords"
           }
          ],
          "pie": [
           {
            "automargin": true,
            "type": "pie"
           }
          ],
          "scatter": [
           {
            "fillpattern": {
             "fillmode": "overlay",
             "size": 10,
             "solidity": 0.2
            },
            "type": "scatter"
           }
          ],
          "scatter3d": [
           {
            "line": {
             "colorbar": {
              "outlinewidth": 0,
              "ticks": ""
             }
            },
            "marker": {
             "colorbar": {
              "outlinewidth": 0,
              "ticks": ""
             }
            },
            "type": "scatter3d"
           }
          ],
          "scattercarpet": [
           {
            "marker": {
             "colorbar": {
              "outlinewidth": 0,
              "ticks": ""
             }
            },
            "type": "scattercarpet"
           }
          ],
          "scattergeo": [
           {
            "marker": {
             "colorbar": {
              "outlinewidth": 0,
              "ticks": ""
             }
            },
            "type": "scattergeo"
           }
          ],
          "scattergl": [
           {
            "marker": {
             "colorbar": {
              "outlinewidth": 0,
              "ticks": ""
             }
            },
            "type": "scattergl"
           }
          ],
          "scattermapbox": [
           {
            "marker": {
             "colorbar": {
              "outlinewidth": 0,
              "ticks": ""
             }
            },
            "type": "scattermapbox"
           }
          ],
          "scatterpolar": [
           {
            "marker": {
             "colorbar": {
              "outlinewidth": 0,
              "ticks": ""
             }
            },
            "type": "scatterpolar"
           }
          ],
          "scatterpolargl": [
           {
            "marker": {
             "colorbar": {
              "outlinewidth": 0,
              "ticks": ""
             }
            },
            "type": "scatterpolargl"
           }
          ],
          "scatterternary": [
           {
            "marker": {
             "colorbar": {
              "outlinewidth": 0,
              "ticks": ""
             }
            },
            "type": "scatterternary"
           }
          ],
          "surface": [
           {
            "colorbar": {
             "outlinewidth": 0,
             "ticks": ""
            },
            "colorscale": [
             [
              0,
              "#0d0887"
             ],
             [
              0.1111111111111111,
              "#46039f"
             ],
             [
              0.2222222222222222,
              "#7201a8"
             ],
             [
              0.3333333333333333,
              "#9c179e"
             ],
             [
              0.4444444444444444,
              "#bd3786"
             ],
             [
              0.5555555555555556,
              "#d8576b"
             ],
             [
              0.6666666666666666,
              "#ed7953"
             ],
             [
              0.7777777777777778,
              "#fb9f3a"
             ],
             [
              0.8888888888888888,
              "#fdca26"
             ],
             [
              1,
              "#f0f921"
             ]
            ],
            "type": "surface"
           }
          ],
          "table": [
           {
            "cells": {
             "fill": {
              "color": "#EBF0F8"
             },
             "line": {
              "color": "white"
             }
            },
            "header": {
             "fill": {
              "color": "#C8D4E3"
             },
             "line": {
              "color": "white"
             }
            },
            "type": "table"
           }
          ]
         },
         "layout": {
          "annotationdefaults": {
           "arrowcolor": "#2a3f5f",
           "arrowhead": 0,
           "arrowwidth": 1
          },
          "autotypenumbers": "strict",
          "coloraxis": {
           "colorbar": {
            "outlinewidth": 0,
            "ticks": ""
           }
          },
          "colorscale": {
           "diverging": [
            [
             0,
             "#8e0152"
            ],
            [
             0.1,
             "#c51b7d"
            ],
            [
             0.2,
             "#de77ae"
            ],
            [
             0.3,
             "#f1b6da"
            ],
            [
             0.4,
             "#fde0ef"
            ],
            [
             0.5,
             "#f7f7f7"
            ],
            [
             0.6,
             "#e6f5d0"
            ],
            [
             0.7,
             "#b8e186"
            ],
            [
             0.8,
             "#7fbc41"
            ],
            [
             0.9,
             "#4d9221"
            ],
            [
             1,
             "#276419"
            ]
           ],
           "sequential": [
            [
             0,
             "#0d0887"
            ],
            [
             0.1111111111111111,
             "#46039f"
            ],
            [
             0.2222222222222222,
             "#7201a8"
            ],
            [
             0.3333333333333333,
             "#9c179e"
            ],
            [
             0.4444444444444444,
             "#bd3786"
            ],
            [
             0.5555555555555556,
             "#d8576b"
            ],
            [
             0.6666666666666666,
             "#ed7953"
            ],
            [
             0.7777777777777778,
             "#fb9f3a"
            ],
            [
             0.8888888888888888,
             "#fdca26"
            ],
            [
             1,
             "#f0f921"
            ]
           ],
           "sequentialminus": [
            [
             0,
             "#0d0887"
            ],
            [
             0.1111111111111111,
             "#46039f"
            ],
            [
             0.2222222222222222,
             "#7201a8"
            ],
            [
             0.3333333333333333,
             "#9c179e"
            ],
            [
             0.4444444444444444,
             "#bd3786"
            ],
            [
             0.5555555555555556,
             "#d8576b"
            ],
            [
             0.6666666666666666,
             "#ed7953"
            ],
            [
             0.7777777777777778,
             "#fb9f3a"
            ],
            [
             0.8888888888888888,
             "#fdca26"
            ],
            [
             1,
             "#f0f921"
            ]
           ]
          },
          "colorway": [
           "#636efa",
           "#EF553B",
           "#00cc96",
           "#ab63fa",
           "#FFA15A",
           "#19d3f3",
           "#FF6692",
           "#B6E880",
           "#FF97FF",
           "#FECB52"
          ],
          "font": {
           "color": "#2a3f5f"
          },
          "geo": {
           "bgcolor": "white",
           "lakecolor": "white",
           "landcolor": "#E5ECF6",
           "showlakes": true,
           "showland": true,
           "subunitcolor": "white"
          },
          "hoverlabel": {
           "align": "left"
          },
          "hovermode": "closest",
          "mapbox": {
           "style": "light"
          },
          "paper_bgcolor": "white",
          "plot_bgcolor": "#E5ECF6",
          "polar": {
           "angularaxis": {
            "gridcolor": "white",
            "linecolor": "white",
            "ticks": ""
           },
           "bgcolor": "#E5ECF6",
           "radialaxis": {
            "gridcolor": "white",
            "linecolor": "white",
            "ticks": ""
           }
          },
          "scene": {
           "xaxis": {
            "backgroundcolor": "#E5ECF6",
            "gridcolor": "white",
            "gridwidth": 2,
            "linecolor": "white",
            "showbackground": true,
            "ticks": "",
            "zerolinecolor": "white"
           },
           "yaxis": {
            "backgroundcolor": "#E5ECF6",
            "gridcolor": "white",
            "gridwidth": 2,
            "linecolor": "white",
            "showbackground": true,
            "ticks": "",
            "zerolinecolor": "white"
           },
           "zaxis": {
            "backgroundcolor": "#E5ECF6",
            "gridcolor": "white",
            "gridwidth": 2,
            "linecolor": "white",
            "showbackground": true,
            "ticks": "",
            "zerolinecolor": "white"
           }
          },
          "shapedefaults": {
           "line": {
            "color": "#2a3f5f"
           }
          },
          "ternary": {
           "aaxis": {
            "gridcolor": "white",
            "linecolor": "white",
            "ticks": ""
           },
           "baxis": {
            "gridcolor": "white",
            "linecolor": "white",
            "ticks": ""
           },
           "bgcolor": "#E5ECF6",
           "caxis": {
            "gridcolor": "white",
            "linecolor": "white",
            "ticks": ""
           }
          },
          "title": {
           "x": 0.05
          },
          "xaxis": {
           "automargin": true,
           "gridcolor": "white",
           "linecolor": "white",
           "ticks": "",
           "title": {
            "standoff": 15
           },
           "zerolinecolor": "white",
           "zerolinewidth": 2
          },
          "yaxis": {
           "automargin": true,
           "gridcolor": "white",
           "linecolor": "white",
           "ticks": "",
           "title": {
            "standoff": 15
           },
           "zerolinecolor": "white",
           "zerolinewidth": 2
          }
         }
        },
        "title": {
         "text": "social.coop registrations"
        },
        "xaxis": {
         "anchor": "y",
         "autorange": true,
         "domain": [
          0,
          1
         ],
         "range": [
          "2021-02-24 12:00",
          "2022-11-09 12:00"
         ],
         "title": {
          "text": "time (week)"
         },
         "type": "date"
        },
        "yaxis": {
         "anchor": "x",
         "autorange": true,
         "domain": [
          0,
          1
         ],
         "range": [
          0,
          29.473684210526315
         ],
         "title": {
          "text": "registrations"
         },
         "type": "linear"
        }
       }
      },
      "image/png": "[encoded data removed]",
      "text/html": [
       "<div>                            <div id=\"96da6204-55c2-48f6-8c89-3fb4cb9244ad\" class=\"plotly-graph-div\" style=\"height:525px; width:100%;\"></div>            <script type=\"text/javascript\">                require([\"plotly\"], function(Plotly) {                    window.PLOTLYENV=window.PLOTLYENV || {};                                    if (document.getElementById(\"96da6204-55c2-48f6-8c89-3fb4cb9244ad\")) {                    Plotly.newPlot(                        \"96da6204-55c2-48f6-8c89-3fb4cb9244ad\",                        [{\"alignmentgroup\":\"True\",\"hovertemplate\":\"time (week)=%{x}<br>registrations=%{y}<extra></extra>\",\"legendgroup\":\"\",\"marker\":{\"color\":\"#636efa\",\"pattern\":{\"shape\":\"\"}},\"name\":\"\",\"offsetgroup\":\"\",\"orientation\":\"v\",\"showlegend\":false,\"textposition\":\"auto\",\"x\":[\"2021-02-28T00:00:00+00:00\",\"2021-03-07T00:00:00+00:00\",\"2021-03-14T00:00:00+00:00\",\"2021-03-21T00:00:00+00:00\",\"2021-03-28T00:00:00+00:00\",\"2021-04-04T00:00:00+00:00\",\"2021-04-11T00:00:00+00:00\",\"2021-04-18T00:00:00+00:00\",\"2021-04-25T00:00:00+00:00\",\"2021-05-02T00:00:00+00:00\",\"2021-05-09T00:00:00+00:00\",\"2021-05-16T00:00:00+00:00\",\"2021-05-23T00:00:00+00:00\",\"2021-05-30T00:00:00+00:00\",\"2021-06-06T00:00:00+00:00\",\"2021-06-13T00:00:00+00:00\",\"2021-06-20T00:00:00+00:00\",\"2021-06-27T00:00:00+00:00\",\"2021-07-04T00:00:00+00:00\",\"2021-07-11T00:00:00+00:00\",\"2021-07-18T00:00:00+00:00\",\"2021-07-25T00:00:00+00:00\",\"2021-08-01T00:00:00+00:00\",\"2021-08-08T00:00:00+00:00\",\"2021-08-15T00:00:00+00:00\",\"2021-08-22T00:00:00+00:00\",\"2021-08-29T00:00:00+00:00\",\"2021-09-05T00:00:00+00:00\",\"2021-09-12T00:00:00+00:00\",\"2021-09-19T00:00:00+00:00\",\"2021-09-26T00:00:00+00:00\",\"2021-10-03T00:00:00+00:00\",\"2021-10-10T00:00:00+00:00\",\"2021-10-17T00:00:00+00:00\",\"2021-10-24T00:00:00+00:00\",\"2021-10-31T00:00:00+00:00\",\"2021-11-07T00:00:00+00:00\",\"2021-11-14T00:00:00+00:00\",\"2021-11-21T00:00:00+00:00\",\"2021-11-28T00:00:00+00:00\",\"2021-12-05T00:00:00+00:00\",\"2021-12-12T00:00:00+00:00\",\"2021-12-19T00:00:00+00:00\",\"2021-12-26T00:00:00+00:00\",\"2022-01-02T00:00:00+00:00\",\"2022-01-09T00:00:00+00:00\",\"2022-01-16T00:00:00+00:00\",\"2022-01-23T00:00:00+00:00\",\"2022-01-30T00:00:00+00:00\",\"2022-02-06T00:00:00+00:00\",\"2022-02-13T00:00:00+00:00\",\"2022-02-20T00:00:00+00:00\",\"2022-02-27T00:00:00+00:00\",\"2022-03-06T00:00:00+00:00\",\"2022-03-13T00:00:00+00:00\",\"2022-03-20T00:00:00+00:00\",\"2022-03-27T00:00:00+00:00\",\"2022-04-03T00:00:00+00:00\",\"2022-04-10T00:00:00+00:00\",\"2022-04-17T00:00:00+00:00\",\"2022-04-24T00:00:00+00:00\",\"2022-05-01T00:00:00+00:00\",\"2022-05-08T00:00:00+00:00\",\"2022-05-15T00:00:00+00:00\",\"2022-05-22T00:00:00+00:00\",\"2022-05-29T00:00:00+00:00\",\"2022-06-05T00:00:00+00:00\",\"2022-06-12T00:00:00+00:00\",\"2022-06-19T00:00:00+00:00\",\"2022-06-26T00:00:00+00:00\",\"2022-07-03T00:00:00+00:00\",\"2022-07-10T00:00:00+00:00\",\"2022-07-17T00:00:00+00:00\",\"2022-07-24T00:00:00+00:00\",\"2022-07-31T00:00:00+00:00\",\"2022-08-07T00:00:00+00:00\",\"2022-08-14T00:00:00+00:00\",\"2022-08-21T00:00:00+00:00\",\"2022-08-28T00:00:00+00:00\",\"2022-09-04T00:00:00+00:00\",\"2022-09-11T00:00:00+00:00\",\"2022-09-18T00:00:00+00:00\",\"2022-09-25T00:00:00+00:00\",\"2022-10-02T00:00:00+00:00\",\"2022-10-09T00:00:00+00:00\",\"2022-10-16T00:00:00+00:00\",\"2022-10-23T00:00:00+00:00\",\"2022-10-30T00:00:00+00:00\",\"2022-11-06T00:00:00+00:00\"],\"xaxis\":\"x\",\"y\":[1,5,8,2,6,0,2,2,3,2,0,0,5,2,1,0,1,2,2,2,1,2,1,2,1,3,2,1,1,0,1,1,2,1,0,0,2,1,2,0,2,6,2,1,0,1,0,3,5,5,0,0,1,3,0,1,5,1,1,2,2,28,9,2,3,2,2,3,0,4,2,0,1,2,1,1,3,2,2,2,1,1,1,0,2,1,2,16,21],\"yaxis\":\"y\",\"type\":\"bar\"}],                        {\"template\":{\"data\":{\"histogram2dcontour\":[{\"type\":\"histogram2dcontour\",\"colorbar\":{\"outlinewidth\":0,\"ticks\":\"\"},\"colorscale\":[[0.0,\"#0d0887\"],[0.1111111111111111,\"#46039f\"],[0.2222222222222222,\"#7201a8\"],[0.3333333333333333,\"#9c179e\"],[0.4444444444444444,\"#bd3786\"],[0.5555555555555556,\"#d8576b\"],[0.6666666666666666,\"#ed7953\"],[0.7777777777777778,\"#fb9f3a\"],[0.8888888888888888,\"#fdca26\"],[1.0,\"#f0f921\"]]}],\"choropleth\":[{\"type\":\"choropleth\",\"colorbar\":{\"outlinewidth\":0,\"ticks\":\"\"}}],\"histogram2d\":[{\"type\":\"histogram2d\",\"colorbar\":{\"outlinewidth\":0,\"ticks\":\"\"},\"colorscale\":[[0.0,\"#0d0887\"],[0.1111111111111111,\"#46039f\"],[0.2222222222222222,\"#7201a8\"],[0.3333333333333333,\"#9c179e\"],[0.4444444444444444,\"#bd3786\"],[0.5555555555555556,\"#d8576b\"],[0.6666666666666666,\"#ed7953\"],[0.7777777777777778,\"#fb9f3a\"],[0.8888888888888888,\"#fdca26\"],[1.0,\"#f0f921\"]]}],\"heatmap\":[{\"type\":\"heatmap\",\"colorbar\":{\"outlinewidth\":0,\"ticks\":\"\"},\"colorscale\":[[0.0,\"#0d0887\"],[0.1111111111111111,\"#46039f\"],[0.2222222222222222,\"#7201a8\"],[0.3333333333333333,\"#9c179e\"],[0.4444444444444444,\"#bd3786\"],[0.5555555555555556,\"#d8576b\"],[0.6666666666666666,\"#ed7953\"],[0.7777777777777778,\"#fb9f3a\"],[0.8888888888888888,\"#fdca26\"],[1.0,\"#f0f921\"]]}],\"heatmapgl\":[{\"type\":\"heatmapgl\",\"colorbar\":{\"outlinewidth\":0,\"ticks\":\"\"},\"colorscale\":[[0.0,\"#0d0887\"],[0.1111111111111111,\"#46039f\"],[0.2222222222222222,\"#7201a8\"],[0.3333333333333333,\"#9c179e\"],[0.4444444444444444,\"#bd3786\"],[0.5555555555555556,\"#d8576b\"],[0.6666666666666666,\"#ed7953\"],[0.7777777777777778,\"#fb9f3a\"],[0.8888888888888888,\"#fdca26\"],[1.0,\"#f0f921\"]]}],\"contourcarpet\":[{\"type\":\"contourcarpet\",\"colorbar\":{\"outlinewidth\":0,\"ticks\":\"\"}}],\"contour\":[{\"type\":\"contour\",\"colorbar\":{\"outlinewidth\":0,\"ticks\":\"\"},\"colorscale\":[[0.0,\"#0d0887\"],[0.1111111111111111,\"#46039f\"],[0.2222222222222222,\"#7201a8\"],[0.3333333333333333,\"#9c179e\"],[0.4444444444444444,\"#bd3786\"],[0.5555555555555556,\"#d8576b\"],[0.6666666666666666,\"#ed7953\"],[0.7777777777777778,\"#fb9f3a\"],[0.8888888888888888,\"#fdca26\"],[1.0,\"#f0f921\"]]}],\"surface\":[{\"type\":\"surface\",\"colorbar\":{\"outlinewidth\":0,\"ticks\":\"\"},\"colorscale\":[[0.0,\"#0d0887\"],[0.1111111111111111,\"#46039f\"],[0.2222222222222222,\"#7201a8\"],[0.3333333333333333,\"#9c179e\"],[0.4444444444444444,\"#bd3786\"],[0.5555555555555556,\"#d8576b\"],[0.6666666666666666,\"#ed7953\"],[0.7777777777777778,\"#fb9f3a\"],[0.8888888888888888,\"#fdca26\"],[1.0,\"#f0f921\"]]}],\"mesh3d\":[{\"type\":\"mesh3d\",\"colorbar\":{\"outlinewidth\":0,\"ticks\":\"\"}}],\"scatter\":[{\"fillpattern\":{\"fillmode\":\"overlay\",\"size\":10,\"solidity\":0.2},\"type\":\"scatter\"}],\"parcoords\":[{\"type\":\"parcoords\",\"line\":{\"colorbar\":{\"outlinewidth\":0,\"ticks\":\"\"}}}],\"scatterpolargl\":[{\"type\":\"scatterpolargl\",\"marker\":{\"colorbar\":{\"outlinewidth\":0,\"ticks\":\"\"}}}],\"bar\":[{\"error_x\":{\"color\":\"#2a3f5f\"},\"error_y\":{\"color\":\"#2a3f5f\"},\"marker\":{\"line\":{\"color\":\"#E5ECF6\",\"width\":0.5},\"pattern\":{\"fillmode\":\"overlay\",\"size\":10,\"solidity\":0.2}},\"type\":\"bar\"}],\"scattergeo\":[{\"type\":\"scattergeo\",\"marker\":{\"colorbar\":{\"outlinewidth\":0,\"ticks\":\"\"}}}],\"scatterpolar\":[{\"type\":\"scatterpolar\",\"marker\":{\"colorbar\":{\"outlinewidth\":0,\"ticks\":\"\"}}}],\"histogram\":[{\"marker\":{\"pattern\":{\"fillmode\":\"overlay\",\"size\":10,\"solidity\":0.2}},\"type\":\"histogram\"}],\"scattergl\":[{\"type\":\"scattergl\",\"marker\":{\"colorbar\":{\"outlinewidth\":0,\"ticks\":\"\"}}}],\"scatter3d\":[{\"type\":\"scatter3d\",\"line\":{\"colorbar\":{\"outlinewidth\":0,\"ticks\":\"\"}},\"marker\":{\"colorbar\":{\"outlinewidth\":0,\"ticks\":\"\"}}}],\"scattermapbox\":[{\"type\":\"scattermapbox\",\"marker\":{\"colorbar\":{\"outlinewidth\":0,\"ticks\":\"\"}}}],\"scatterternary\":[{\"type\":\"scatterternary\",\"marker\":{\"colorbar\":{\"outlinewidth\":0,\"ticks\":\"\"}}}],\"scattercarpet\":[{\"type\":\"scattercarpet\",\"marker\":{\"colorbar\":{\"outlinewidth\":0,\"ticks\":\"\"}}}],\"carpet\":[{\"aaxis\":{\"endlinecolor\":\"#2a3f5f\",\"gridcolor\":\"white\",\"linecolor\":\"white\",\"minorgridcolor\":\"white\",\"startlinecolor\":\"#2a3f5f\"},\"baxis\":{\"endlinecolor\":\"#2a3f5f\",\"gridcolor\":\"white\",\"linecolor\":\"white\",\"minorgridcolor\":\"white\",\"startlinecolor\":\"#2a3f5f\"},\"type\":\"carpet\"}],\"table\":[{\"cells\":{\"fill\":{\"color\":\"#EBF0F8\"},\"line\":{\"color\":\"white\"}},\"header\":{\"fill\":{\"color\":\"#C8D4E3\"},\"line\":{\"color\":\"white\"}},\"type\":\"table\"}],\"barpolar\":[{\"marker\":{\"line\":{\"color\":\"#E5ECF6\",\"width\":0.5},\"pattern\":{\"fillmode\":\"overlay\",\"size\":10,\"solidity\":0.2}},\"type\":\"barpolar\"}],\"pie\":[{\"automargin\":true,\"type\":\"pie\"}]},\"layout\":{\"autotypenumbers\":\"strict\",\"colorway\":[\"#636efa\",\"#EF553B\",\"#00cc96\",\"#ab63fa\",\"#FFA15A\",\"#19d3f3\",\"#FF6692\",\"#B6E880\",\"#FF97FF\",\"#FECB52\"],\"font\":{\"color\":\"#2a3f5f\"},\"hovermode\":\"closest\",\"hoverlabel\":{\"align\":\"left\"},\"paper_bgcolor\":\"white\",\"plot_bgcolor\":\"#E5ECF6\",\"polar\":{\"bgcolor\":\"#E5ECF6\",\"angularaxis\":{\"gridcolor\":\"white\",\"linecolor\":\"white\",\"ticks\":\"\"},\"radialaxis\":{\"gridcolor\":\"white\",\"linecolor\":\"white\",\"ticks\":\"\"}},\"ternary\":{\"bgcolor\":\"#E5ECF6\",\"aaxis\":{\"gridcolor\":\"white\",\"linecolor\":\"white\",\"ticks\":\"\"},\"baxis\":{\"gridcolor\":\"white\",\"linecolor\":\"white\",\"ticks\":\"\"},\"caxis\":{\"gridcolor\":\"white\",\"linecolor\":\"white\",\"ticks\":\"\"}},\"coloraxis\":{\"colorbar\":{\"outlinewidth\":0,\"ticks\":\"\"}},\"colorscale\":{\"sequential\":[[0.0,\"#0d0887\"],[0.1111111111111111,\"#46039f\"],[0.2222222222222222,\"#7201a8\"],[0.3333333333333333,\"#9c179e\"],[0.4444444444444444,\"#bd3786\"],[0.5555555555555556,\"#d8576b\"],[0.6666666666666666,\"#ed7953\"],[0.7777777777777778,\"#fb9f3a\"],[0.8888888888888888,\"#fdca26\"],[1.0,\"#f0f921\"]],\"sequentialminus\":[[0.0,\"#0d0887\"],[0.1111111111111111,\"#46039f\"],[0.2222222222222222,\"#7201a8\"],[0.3333333333333333,\"#9c179e\"],[0.4444444444444444,\"#bd3786\"],[0.5555555555555556,\"#d8576b\"],[0.6666666666666666,\"#ed7953\"],[0.7777777777777778,\"#fb9f3a\"],[0.8888888888888888,\"#fdca26\"],[1.0,\"#f0f921\"]],\"diverging\":[[0,\"#8e0152\"],[0.1,\"#c51b7d\"],[0.2,\"#de77ae\"],[0.3,\"#f1b6da\"],[0.4,\"#fde0ef\"],[0.5,\"#f7f7f7\"],[0.6,\"#e6f5d0\"],[0.7,\"#b8e186\"],[0.8,\"#7fbc41\"],[0.9,\"#4d9221\"],[1,\"#276419\"]]},\"xaxis\":{\"gridcolor\":\"white\",\"linecolor\":\"white\",\"ticks\":\"\",\"title\":{\"standoff\":15},\"zerolinecolor\":\"white\",\"automargin\":true,\"zerolinewidth\":2},\"yaxis\":{\"gridcolor\":\"white\",\"linecolor\":\"white\",\"ticks\":\"\",\"title\":{\"standoff\":15},\"zerolinecolor\":\"white\",\"automargin\":true,\"zerolinewidth\":2},\"scene\":{\"xaxis\":{\"backgroundcolor\":\"#E5ECF6\",\"gridcolor\":\"white\",\"linecolor\":\"white\",\"showbackground\":true,\"ticks\":\"\",\"zerolinecolor\":\"white\",\"gridwidth\":2},\"yaxis\":{\"backgroundcolor\":\"#E5ECF6\",\"gridcolor\":\"white\",\"linecolor\":\"white\",\"showbackground\":true,\"ticks\":\"\",\"zerolinecolor\":\"white\",\"gridwidth\":2},\"zaxis\":{\"backgroundcolor\":\"#E5ECF6\",\"gridcolor\":\"white\",\"linecolor\":\"white\",\"showbackground\":true,\"ticks\":\"\",\"zerolinecolor\":\"white\",\"gridwidth\":2}},\"shapedefaults\":{\"line\":{\"color\":\"#2a3f5f\"}},\"annotationdefaults\":{\"arrowcolor\":\"#2a3f5f\",\"arrowhead\":0,\"arrowwidth\":1},\"geo\":{\"bgcolor\":\"white\",\"landcolor\":\"#E5ECF6\",\"subunitcolor\":\"white\",\"showland\":true,\"showlakes\":true,\"lakecolor\":\"white\"},\"title\":{\"x\":0.05},\"mapbox\":{\"style\":\"light\"}}},\"xaxis\":{\"anchor\":\"y\",\"domain\":[0.0,1.0],\"title\":{\"text\":\"time (week)\"}},\"yaxis\":{\"anchor\":\"x\",\"domain\":[0.0,1.0],\"title\":{\"text\":\"registrations\"}},\"legend\":{\"tracegroupgap\":0},\"title\":{\"text\":\"social.coop registrations\"},\"barmode\":\"relative\"},                        {\"responsive\": true}                    ).then(function(){\n",
       "                            \n",
       "var gd = document.getElementById('96da6204-55c2-48f6-8c89-3fb4cb9244ad');\n",
       "var x = new MutationObserver(function (mutations, observer) {{\n",
       "        var display = window.getComputedStyle(gd).display;\n",
       "        if (!display || display === 'none') {{\n",
       "            console.log([gd, 'removed!']);\n",
       "            Plotly.purge(gd);\n",
       "            observer.disconnect();\n",
       "        }}\n",
       "}});\n",
       "\n",
       "// Listen for the removal of the full notebook cells\n",
       "var notebookContainer = gd.closest('#notebook-container');\n",
       "if (notebookContainer) {{\n",
       "    x.observe(notebookContainer, {childList: true});\n",
       "}}\n",
       "\n",
       "// Listen for the clearing of the current output cell\n",
       "var outputEl = gd.closest('.output');\n",
       "if (outputEl) {{\n",
       "    x.observe(outputEl, {childList: true});\n",
       "}}\n",
       "\n",
       "                        })                };                });            </script>        </div>"
      ]
     },
     "metadata": {},
     "output_type": "display_data"
    }
   ],
   "source": [
    "import plotly.express as xp\n",
    "\n",
    "xp.bar(counts, x=counts.index, y=counts.id, title='social.coop registrations', labels={'id': 'registrations', 'created_at': 'time (week)'})\n"
   ]
  },
  {
   "cell_type": "code",
   "execution_count": null,
   "id": "ac1a2397-c717-457e-9536-1cc8b46509c6",
   "metadata": {},
   "outputs": [],
   "source": []
  }
 ],
 "metadata": {
  "kernelspec": {
   "display_name": "Python 3 (ipykernel)",
   "language": "python",
   "name": "python3"
  },
  "language_info": {
   "codemirror_mode": {
    "name": "ipython",
    "version": 3
   },
   "file_extension": ".py",
   "mimetype": "text/x-python",
   "name": "python",
   "nbconvert_exporter": "python",
   "pygments_lexer": "ipython3",
   "version": "3.10.8"
  }
 },
 "nbformat": 4,
 "nbformat_minor": 5
}
